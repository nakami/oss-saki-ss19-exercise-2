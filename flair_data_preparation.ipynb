{
 "cells": [
  {
   "cell_type": "code",
   "execution_count": 0,
   "metadata": {
    "colab": {
     "base_uri": "https://localhost:8080/",
     "height": 34
    },
    "colab_type": "code",
    "id": "xJmUdwCDJQQz",
    "outputId": "d84b9603-5939-428f-8512-d55f314d8e2f"
   },
   "outputs": [
    {
     "name": "stdout",
     "output_type": "stream",
     "text": [
      "Drive already mounted at /content/gdrive; to attempt to forcibly remount, call drive.mount(\"/content/gdrive\", force_remount=True).\n"
     ]
    }
   ],
   "source": [
    "from google.colab import drive\n",
    "drive.mount('/content/gdrive')"
   ]
  },
  {
   "cell_type": "code",
   "execution_count": 0,
   "metadata": {
    "colab": {},
    "colab_type": "code",
    "id": "KIZk8yz8KJsM"
   },
   "outputs": [],
   "source": [
    "import os\n",
    "os.chdir(\"/content/gdrive/My Drive/SAKI_2019/data\") "
   ]
  },
  {
   "cell_type": "code",
   "execution_count": 0,
   "metadata": {
    "colab": {
     "base_uri": "https://localhost:8080/",
     "height": 887
    },
    "colab_type": "code",
    "id": "zTcnMHvrKM0f",
    "outputId": "182d9ae4-3e6d-441e-e323-fe9a525285a3"
   },
   "outputs": [
    {
     "name": "stdout",
     "output_type": "stream",
     "text": [
      "Requirement already satisfied: flair in /usr/local/lib/python3.6/dist-packages (0.4.2)\n",
      "Requirement already satisfied: matplotlib>=2.2.3 in /usr/local/lib/python3.6/dist-packages (from flair) (3.0.3)\n",
      "Requirement already satisfied: deprecated>=1.2.4 in /usr/local/lib/python3.6/dist-packages (from flair) (1.2.5)\n",
      "Requirement already satisfied: torch>=1.0.0 in /usr/local/lib/python3.6/dist-packages (from flair) (1.1.0)\n",
      "Requirement already satisfied: sklearn in /usr/local/lib/python3.6/dist-packages (from flair) (0.0)\n",
      "Requirement already satisfied: sqlitedict>=1.6.0 in /usr/local/lib/python3.6/dist-packages (from flair) (1.6.0)\n",
      "Requirement already satisfied: hyperopt>=0.1.1 in /usr/local/lib/python3.6/dist-packages (from flair) (0.1.2)\n",
      "Requirement already satisfied: pytest>=3.6.4 in /usr/local/lib/python3.6/dist-packages (from flair) (3.6.4)\n",
      "Requirement already satisfied: bpemb>=0.2.9 in /usr/local/lib/python3.6/dist-packages (from flair) (0.3.0)\n",
      "Requirement already satisfied: urllib3<1.25,>=1.20 in /usr/local/lib/python3.6/dist-packages (from flair) (1.24.3)\n",
      "Requirement already satisfied: gensim>=3.4.0 in /usr/local/lib/python3.6/dist-packages (from flair) (3.6.0)\n",
      "Requirement already satisfied: tqdm>=4.26.0 in /usr/local/lib/python3.6/dist-packages (from flair) (4.28.1)\n",
      "Requirement already satisfied: mpld3==0.3 in /usr/local/lib/python3.6/dist-packages (from flair) (0.3)\n",
      "Requirement already satisfied: tabulate in /usr/local/lib/python3.6/dist-packages (from flair) (0.8.3)\n",
      "Requirement already satisfied: segtok>=1.5.7 in /usr/local/lib/python3.6/dist-packages (from flair) (1.5.7)\n",
      "Requirement already satisfied: regex in /usr/local/lib/python3.6/dist-packages (from flair) (2019.6.8)\n",
      "Requirement already satisfied: pytorch-pretrained-bert>=0.6.1 in /usr/local/lib/python3.6/dist-packages (from flair) (0.6.2)\n",
      "Requirement already satisfied: pyparsing!=2.0.4,!=2.1.2,!=2.1.6,>=2.0.1 in /usr/local/lib/python3.6/dist-packages (from matplotlib>=2.2.3->flair) (2.4.0)\n",
      "Requirement already satisfied: numpy>=1.10.0 in /usr/local/lib/python3.6/dist-packages (from matplotlib>=2.2.3->flair) (1.16.4)\n",
      "Requirement already satisfied: python-dateutil>=2.1 in /usr/local/lib/python3.6/dist-packages (from matplotlib>=2.2.3->flair) (2.5.3)\n",
      "Requirement already satisfied: kiwisolver>=1.0.1 in /usr/local/lib/python3.6/dist-packages (from matplotlib>=2.2.3->flair) (1.1.0)\n",
      "Requirement already satisfied: cycler>=0.10 in /usr/local/lib/python3.6/dist-packages (from matplotlib>=2.2.3->flair) (0.10.0)\n",
      "Requirement already satisfied: wrapt<2,>=1 in /usr/local/lib/python3.6/dist-packages (from deprecated>=1.2.4->flair) (1.11.1)\n",
      "Requirement already satisfied: scikit-learn in /usr/local/lib/python3.6/dist-packages (from sklearn->flair) (0.21.2)\n",
      "Requirement already satisfied: pymongo in /usr/local/lib/python3.6/dist-packages (from hyperopt>=0.1.1->flair) (3.8.0)\n",
      "Requirement already satisfied: six in /usr/local/lib/python3.6/dist-packages (from hyperopt>=0.1.1->flair) (1.12.0)\n",
      "Requirement already satisfied: networkx in /usr/local/lib/python3.6/dist-packages (from hyperopt>=0.1.1->flair) (2.3)\n",
      "Requirement already satisfied: scipy in /usr/local/lib/python3.6/dist-packages (from hyperopt>=0.1.1->flair) (1.3.0)\n",
      "Requirement already satisfied: future in /usr/local/lib/python3.6/dist-packages (from hyperopt>=0.1.1->flair) (0.16.0)\n",
      "Requirement already satisfied: pluggy<0.8,>=0.5 in /usr/local/lib/python3.6/dist-packages (from pytest>=3.6.4->flair) (0.7.1)\n",
      "Requirement already satisfied: attrs>=17.4.0 in /usr/local/lib/python3.6/dist-packages (from pytest>=3.6.4->flair) (19.1.0)\n",
      "Requirement already satisfied: atomicwrites>=1.0 in /usr/local/lib/python3.6/dist-packages (from pytest>=3.6.4->flair) (1.3.0)\n",
      "Requirement already satisfied: py>=1.5.0 in /usr/local/lib/python3.6/dist-packages (from pytest>=3.6.4->flair) (1.8.0)\n",
      "Requirement already satisfied: more-itertools>=4.0.0 in /usr/local/lib/python3.6/dist-packages (from pytest>=3.6.4->flair) (7.0.0)\n",
      "Requirement already satisfied: setuptools in /usr/local/lib/python3.6/dist-packages (from pytest>=3.6.4->flair) (41.0.1)\n",
      "Requirement already satisfied: sentencepiece in /usr/local/lib/python3.6/dist-packages (from bpemb>=0.2.9->flair) (0.1.82)\n",
      "Requirement already satisfied: requests in /usr/local/lib/python3.6/dist-packages (from bpemb>=0.2.9->flair) (2.21.0)\n",
      "Requirement already satisfied: smart-open>=1.2.1 in /usr/local/lib/python3.6/dist-packages (from gensim>=3.4.0->flair) (1.8.4)\n",
      "Requirement already satisfied: boto3 in /usr/local/lib/python3.6/dist-packages (from pytorch-pretrained-bert>=0.6.1->flair) (1.9.165)\n",
      "Requirement already satisfied: joblib>=0.11 in /usr/local/lib/python3.6/dist-packages (from scikit-learn->sklearn->flair) (0.13.2)\n",
      "Requirement already satisfied: decorator>=4.3.0 in /usr/local/lib/python3.6/dist-packages (from networkx->hyperopt>=0.1.1->flair) (4.4.0)\n",
      "Requirement already satisfied: certifi>=2017.4.17 in /usr/local/lib/python3.6/dist-packages (from requests->bpemb>=0.2.9->flair) (2019.3.9)\n",
      "Requirement already satisfied: idna<2.9,>=2.5 in /usr/local/lib/python3.6/dist-packages (from requests->bpemb>=0.2.9->flair) (2.8)\n",
      "Requirement already satisfied: chardet<3.1.0,>=3.0.2 in /usr/local/lib/python3.6/dist-packages (from requests->bpemb>=0.2.9->flair) (3.0.4)\n",
      "Requirement already satisfied: boto>=2.32 in /usr/local/lib/python3.6/dist-packages (from smart-open>=1.2.1->gensim>=3.4.0->flair) (2.49.0)\n",
      "Requirement already satisfied: botocore<1.13.0,>=1.12.165 in /usr/local/lib/python3.6/dist-packages (from boto3->pytorch-pretrained-bert>=0.6.1->flair) (1.12.165)\n",
      "Requirement already satisfied: s3transfer<0.3.0,>=0.2.0 in /usr/local/lib/python3.6/dist-packages (from boto3->pytorch-pretrained-bert>=0.6.1->flair) (0.2.1)\n",
      "Requirement already satisfied: jmespath<1.0.0,>=0.7.1 in /usr/local/lib/python3.6/dist-packages (from boto3->pytorch-pretrained-bert>=0.6.1->flair) (0.9.4)\n",
      "Requirement already satisfied: docutils>=0.10 in /usr/local/lib/python3.6/dist-packages (from botocore<1.13.0,>=1.12.165->boto3->pytorch-pretrained-bert>=0.6.1->flair) (0.14)\n"
     ]
    }
   ],
   "source": [
    "# download flair library #\n",
    "! pip install flair"
   ]
  },
  {
   "cell_type": "code",
   "execution_count": 0,
   "metadata": {
    "colab": {},
    "colab_type": "code",
    "id": "5h_89FPHKn7M"
   },
   "outputs": [],
   "source": [
    "from flair.data import Corpus\n",
    "from flair.datasets import WIKINER_ENGLISH"
   ]
  },
  {
   "cell_type": "code",
   "execution_count": 0,
   "metadata": {
    "colab": {
     "base_uri": "https://localhost:8080/",
     "height": 143
    },
    "colab_type": "code",
    "id": "mCyfS290Kp7a",
    "outputId": "ce483a70-4efd-40ef-84b0-00af40c067e7"
   },
   "outputs": [
    {
     "name": "stdout",
     "output_type": "stream",
     "text": [
      "2019-06-15 18:27:20,715 Reading data from /root/.flair/datasets/wikiner_english\n",
      "2019-06-15 18:27:20,717 Train: /root/.flair/datasets/wikiner_english/aij-wikiner-en-wp3.train\n",
      "2019-06-15 18:27:20,719 Dev: None\n",
      "2019-06-15 18:27:20,721 Test: None\n",
      "Corpus: 11514 train + 1279 dev + 1422 test sentences\n",
      "[b'<unk>', b'O', b'S-LOC', b'B-ORG', b'E-ORG', b'S-ORG', b'S-MISC', b'B-MISC', b'I-MISC', b'E-MISC', b'S-PER', b'B-PER', b'E-PER', b'B-LOC', b'E-LOC', b'I-LOC', b'I-ORG', b'I-PER', b'<START>', b'<STOP>']\n"
     ]
    }
   ],
   "source": [
    "# 1. get the corpus\n",
    "wikiner_corpus: Corpus = WIKINER_ENGLISH().downsample(0.1)\n",
    "print(wikiner_corpus)\n",
    "# 3. make the tag dictionary from the corpus\n",
    "tag_dictionary = wikiner_corpus.make_tag_dictionary(tag_type='ner')\n",
    "print(tag_dictionary.idx2item)"
   ]
  },
  {
   "cell_type": "code",
   "execution_count": 0,
   "metadata": {
    "colab": {
     "base_uri": "https://localhost:8080/",
     "height": 72
    },
    "colab_type": "code",
    "id": "Xz5_TVavMYCo",
    "outputId": "28c7e694-8279-4983-f579-fa5c7470461a"
   },
   "outputs": [
    {
     "name": "stdout",
     "output_type": "stream",
     "text": [
      "Sentence: \"However , in early 2003 , when the makers of the series decided to write Mark out of the series , he left Walford to travel the world , and his death was announced a year later .\" - 38 Tokens\n",
      "However <RB> , <,> in <IN> early <JJ> 2003 <CD> , <,> when <WRB> the <DT> makers <NNS> of <IN> the <DT> series <NN> decided <VBD> to <TO> write <VB> Mark <NNP/S-PER> out <IN> of <IN> the <DT> series <NN> , <,> he <PRP> left <VBD> Walford <NNP/S-LOC> to <TO> travel <VB> the <DT> world <NN> , <,> and <CC> his <PRP$> death <NN> was <VBD> announced <VBN> a <DT> year <NN> later <RB> . <.>\n"
     ]
    }
   ],
   "source": [
    "print(wikiner_corpus.train[73])\n",
    "print(wikiner_corpus.train[73].to_tagged_string())"
   ]
  },
  {
   "cell_type": "code",
   "execution_count": 0,
   "metadata": {
    "colab": {
     "base_uri": "https://localhost:8080/",
     "height": 250
    },
    "colab_type": "code",
    "id": "fCS7O0RxRNUA",
    "outputId": "ade97c48-5fc6-4707-de9b-4ae7dc52e9f6"
   },
   "outputs": [
    {
     "name": "stdout",
     "output_type": "stream",
     "text": [
      "2019-06-15 21:23:35,091 Reading data from /content/gdrive/My Drive/SAKI_2019/data\n",
      "2019-06-15 21:23:35,097 Train: /content/gdrive/My Drive/SAKI_2019/data/training_bilou.txt\n",
      "2019-06-15 21:23:35,099 Dev: None\n",
      "2019-06-15 21:23:35,101 Test: /content/gdrive/My Drive/SAKI_2019/data/test_bilou.txt\n"
     ]
    },
    {
     "name": "stderr",
     "output_type": "stream",
     "text": [
      "/usr/local/lib/python3.6/dist-packages/ipykernel_launcher.py:11: DeprecationWarning: Call to deprecated function (or staticmethod) load_column_corpus. (Use 'flair.datasets' instead.) -- Deprecated since version 0.4.1.\n",
      "  # This is added back by InteractiveShellApp.init_path()\n",
      "/usr/local/lib/python3.6/dist-packages/flair/data_fetcher.py:312: DeprecationWarning: Call to deprecated function (or staticmethod) read_column_data. (Use 'flair.datasets' instead.) -- Deprecated since version 0.4.1.\n",
      "  train_file, column_format\n",
      "/usr/local/lib/python3.6/dist-packages/flair/data_fetcher.py:318: DeprecationWarning: Call to deprecated function (or staticmethod) read_column_data. (Use 'flair.datasets' instead.) -- Deprecated since version 0.4.1.\n",
      "  test_file, column_format\n"
     ]
    },
    {
     "name": "stdout",
     "output_type": "stream",
     "text": [
      "Corpus: 94 train + 10 dev + 31 test sentences\n",
      "[b'<unk>', b'O', b'B-Name', b'L-Name', b'B-Designation', b'I-Designation', b'L-Designation', b'U-Degree', b'-', b'U-Designation', b'B-Degree', b'I-Degree', b'L-Degree', b'<START>', b'<STOP>']\n"
     ]
    }
   ],
   "source": [
    "from flair.data_fetcher import NLPTaskDataFetcher\n",
    "\n",
    "downsample = 0.01 # 1.0 is full data, try a much smaller number like 0.01 to test run the code\n",
    "data_folder = '/content/gdrive/My Drive/SAKI_2019/data' \n",
    "columns = {0: 'text', 1: 'ner'}\n",
    "\n",
    "# 1. get the corpus\n",
    "corpus: Corpus = NLPTaskDataFetcher.load_column_corpus(data_folder, columns,\n",
    "                                                             train_file='training_bilou.txt',\n",
    "                                                             test_file='test_bilou.txt',\n",
    "                                                           dev_file=None).downsample(downsample)\n",
    "print(corpus)\n",
    "\n",
    "# 3. make the tag dictionary from the corpus\n",
    "tag_dictionary = corpus.make_tag_dictionary(tag_type='ner')\n",
    "print(tag_dictionary.idx2item)\n"
   ]
  },
  {
   "cell_type": "code",
   "execution_count": 0,
   "metadata": {
    "colab": {
     "base_uri": "https://localhost:8080/",
     "height": 587
    },
    "colab_type": "code",
    "id": "wK4wyRrnjc6B",
    "outputId": "726ea8ba-e18e-490d-c5ee-2e2e16690204"
   },
   "outputs": [
    {
     "name": "stdout",
     "output_type": "stream",
     "text": [
      "● Project Office , Project Procurement & Financial Management , developing , establishing & maintaining PMO services , Organizational Governance tools & Systems , Traceability Matrix , project & master Schedules , project Plans , Resource Profiles , organizational Capacity Management , Cost , Risk & Issue , Integration sequence , Communication Plans , Mentoring , Training , Templates , & Performance , for all PMBOK and CMMI disciplines .\n",
      "• Appointed distributor in Orissa and already line up distribution in Bihar , Jharkhand & M.P this month .\n",
      "* Developing strategies to enhance customer relations through formal and informal channels , building cordial relationship through regular interactions & apprising them with institute 's value propositions .\n",
      "and generate <B-Designation> sales <I-Designation> lead <L-Designation> .\n",
      "Contribution : • Developed Quality Claims Report for purchase orders for which whole cycle is done and also at sales distribution side .\n",
      "WORK - EXPERIENCE : 27 months and going https://www.indeed.com/r/Kshitij-Jagtap/ee0c136450f96b5e?isid=rex-download&ikw=download-top&co=IN Manager <B-Designation> - <I-Designation> Sales <L-Designation> HSBC Bank - July 2014 to June 2016 Responsibilities : • Engaging with self - employed customers for Home Loan and LAP who have complex businesses/ financials , understanding their business models and inherent risks in order to prepare a credit report , proposing their loan requirement , allowing the credit team to make a funding decision .\n",
      "• Implemented the PL / SQL based on the requirements of AP and RI modules .\n",
      "Analysis of Financial Data https://www.indeed.com/r/Anvitha-Rao/9d6acc68cc30c71c?isid=rex-download&ikw=download-top&co=IN ● Exploratory data analysis of stock prices using various data visualization techniques in pandas and d3.js Effective prediction and prevention of air pollution caused due to automobiles using IoT and data analytics techniques ● Analyzes pollutants at different geographical locations and suggests a least polluted route on an android application .\n",
      "Responsibilities : Developed High Level Test Strategy for UBS - Group HR Applications ( Viz .\n",
      "Monitoring the performance of dealers & distributors regarding sales and collections periodically .\n",
      "The website contains all the basic elements of an e <B-Degree> - <I-Degree> commerce <L-Degree> website which are The landing page , categorization of items based on filters , basic session level security , product page , Cart , share button , empty cart button , paginations etc .\n",
      "- The project required to find a platform which satisfies all the requirements and transfer all TypePad content to the Amazon owned platform while maintaining its functionalities and compatibility .\n",
      "• Worked in National Grid account ( energy industry , UK ) for plant management using native HANA development .\n",
      "• Excellent team player having ability to finish the tight deadlines and work under pressure .\n",
      "Willing to relocate : Anywhere WORK EXPERIENCE Senior <-> Analyst <-> Cisco - 2016 to Present Working in the network Voip team as a tier2 engineer .\n",
      "Rajesh <B-Name> Rokaya <L-Name> Sales <U-Designation> Mumbai , Maharashtra - Email me on Indeed : indeed.com/r/Rajesh-Rokaya/51899dfb8f972708 Willing to relocate : Anywhere WORK EXPERIENCE Sales <U-Designation> Manager <L-Designation> Kotak Mahindra Bank - Mumbai , Maharashtra - July 2013 to August 2014 Responsibilities I normally do a code calling , follow up and cross selling as well as with CASA .\n",
      "2 ) Organisation : QuadGen Wireless Engineering Services Pvt .\n",
      "• Working on classic software development models along Agile Methodologies .\n",
      "Notable Attainments : ☑ Successful achieved budged target .\n",
      "➢ Enhanced QTP scripts using VB Script .\n",
      "Involved in the development , testing , verification of the module on windows .\n",
      "Documenting it .\n",
      "• From Jan ' 17 to Mar ' 17 , set up and did a pilot for a corporate channel to source Retail Asset products , which is currently running full - swing for key locations across India .\n",
      "• Arranging client visit with manufacturers and explaining the Export procedure .\n",
      "Project Description : In this project , we maintain all details about Hospital details like- Hospital address , Consultant Doctor , Doctor Details , Permanent Doctor , Medicine , Lab Test , In Patient , Out Patient etc .\n",
      "* Actively involved in team management and successfully handled team briefing thereby , ensured proper flow of information among the team members .\n",
      "7 .\n",
      "Client : On Demand Operations , Oracle Bangalore Team Size : 2 Software /Tools : Shell and Expect scripting , PLSQL .\n",
      "• Specific business process in price - execution domain , however , pattern addresses larger solutions space .\n",
      "AMIT <B-Name> DUBEY <L-Name> Deputy <B-Designation> Manager <L-Designation> - Bajaj Finance limited Thane , Maharashtra - Email me on Indeed : indeed.com/r/AMIT-DUBEY/382595bce6d23507 Experience of 8 years in Sales & Marketing and Business Development .\n",
      "➢ Promoted as SME where the responsibilities are to handle the team in the absence of Manager OR Team Lead and assigning the Work to the folks .\n"
     ]
    }
   ],
   "source": [
    "for sent in corpus.test:\n",
    "  print(sent.to_tagged_string())"
   ]
  },
  {
   "cell_type": "code",
   "execution_count": 0,
   "metadata": {
    "colab": {
     "base_uri": "https://localhost:8080/",
     "height": 194
    },
    "colab_type": "code",
    "id": "XfgnZTHlmGcC",
    "outputId": "443a876d-2fac-4e5e-eabb-89739ab71508"
   },
   "outputs": [
    {
     "name": "stdout",
     "output_type": "stream",
     "text": [
      "and\n",
      "   ner O\n",
      "generate\n",
      "   ner B-Designation\n",
      "sales\n",
      "   ner I-Designation\n",
      "lead\n",
      "   ner L-Designation\n",
      ".\n",
      "   ner O\n"
     ]
    }
   ],
   "source": [
    "sent = corpus.test[3]\n",
    "for tok in sent.tokens:\n",
    "  print(tok.text)\n",
    "  for k in tok.tags:\n",
    "    print(\"   \"+k+\" \"+tok.tags[k].value)"
   ]
  }
 ],
 "metadata": {
  "accelerator": "GPU",
  "colab": {
   "collapsed_sections": [],
   "name": "flair_data_preparation.ipynb",
   "provenance": [],
   "version": "0.3.2"
  },
  "kernelspec": {
   "display_name": "Python 3",
   "language": "python",
   "name": "python3"
  },
  "language_info": {
   "codemirror_mode": {
    "name": "ipython",
    "version": 3
   },
   "file_extension": ".py",
   "mimetype": "text/x-python",
   "name": "python",
   "nbconvert_exporter": "python",
   "pygments_lexer": "ipython3",
   "version": "3.7.3"
  }
 },
 "nbformat": 4,
 "nbformat_minor": 1
}
